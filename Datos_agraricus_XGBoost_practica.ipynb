{
  "nbformat": 4,
  "nbformat_minor": 0,
  "metadata": {
    "colab": {
      "provenance": []
    },
    "kernelspec": {
      "name": "python3",
      "display_name": "Python 3"
    },
    "language_info": {
      "name": "python"
    }
  },
  "cells": [
    {
      "cell_type": "markdown",
      "source": [
        "1- Importamos librerías a utilizar"
      ],
      "metadata": {
        "id": "c__XN90AnJa4"
      }
    },
    {
      "cell_type": "code",
      "execution_count": 114,
      "metadata": {
        "id": "fgEZO27GmeZN"
      },
      "outputs": [],
      "source": [
        "import pandas as pd\n",
        "import xgboost as xgb\n",
        "import urllib.request\n",
        "from numpy import array\n",
        "from sklearn.model_selection import train_test_split\n",
        "from urllib.request import urlretrieve\n",
        "from sklearn.metrics import confusion_matrix, accuracy_score, classification_report"
      ]
    },
    {
      "cell_type": "markdown",
      "source": [
        "2- Descargamos los archivos a utilizar"
      ],
      "metadata": {
        "id": "H17KNusinRg_"
      }
    },
    {
      "cell_type": "code",
      "source": [
        "#Guardamos las URLs a utilizar, que contienen la raw data, a objetos\n",
        "url_data = \"https://raw.githubusercontent.com/jboscomendoza/xgboost_en_python/master/agaricus-lepiota.data\"\n",
        "url_names = \"https://raw.githubusercontent.com/jboscomendoza/xgboost_en_python/master/agaricus-lepiota.names\"\n"
      ],
      "metadata": {
        "id": "QM6gC26qYo9c"
      },
      "execution_count": 38,
      "outputs": []
    },
    {
      "cell_type": "code",
      "source": [
        "#Y Aquí con urlretireve obtenemos el contenido de las urls\n",
        "urlretrieve(url_data, \"agaricus-lepiota.data\")\n",
        "urlretrieve(url_names, \"agaricus-lepiota.names\")"
      ],
      "metadata": {
        "colab": {
          "base_uri": "https://localhost:8080/"
        },
        "id": "LiXHX14jZxyf",
        "outputId": "47e9fc65-87f4-4a85-866e-cd9d573a4a95"
      },
      "execution_count": 39,
      "outputs": [
        {
          "output_type": "execute_result",
          "data": {
            "text/plain": [
              "('agaricus-lepiota.names', <http.client.HTTPMessage at 0x7b855c67a1a0>)"
            ]
          },
          "metadata": {},
          "execution_count": 39
        }
      ]
    },
    {
      "cell_type": "markdown",
      "source": [
        "3- Exploración de datos: abrirlos y asignarlos a una estructuras tabular"
      ],
      "metadata": {
        "id": "IYBNvshoncqe"
      }
    },
    {
      "cell_type": "code",
      "source": [
        "#Aquí definimos una función para abrir las primeras 10 líneas de datos y conocer su estructura\n",
        "def ver_contenido(ruta, mode=\"r\", lineas=10):\n",
        "    with open(ruta, mode) as archivo:\n",
        "        contenido = archivo.readlines()\n",
        "        [print(i.strip()) for i in contenido[:lineas]]\n"
      ],
      "metadata": {
        "id": "59nYtyWxbmkx"
      },
      "execution_count": 47,
      "outputs": []
    },
    {
      "cell_type": "code",
      "source": [
        "#Vemos que posee estructura tabular\n",
        "ver_contenido(\"agaricus-lepiota.data\")"
      ],
      "metadata": {
        "colab": {
          "base_uri": "https://localhost:8080/"
        },
        "id": "ev6t8CHwjObf",
        "outputId": "0105c943-2e48-4505-da72-5a86a112276c"
      },
      "execution_count": 48,
      "outputs": [
        {
          "output_type": "stream",
          "name": "stdout",
          "text": [
            "p,x,s,n,t,p,f,c,n,k,e,e,s,s,w,w,p,w,o,p,k,s,u\n",
            "e,x,s,y,t,a,f,c,b,k,e,c,s,s,w,w,p,w,o,p,n,n,g\n",
            "e,b,s,w,t,l,f,c,b,n,e,c,s,s,w,w,p,w,o,p,n,n,m\n",
            "p,x,y,w,t,p,f,c,n,n,e,e,s,s,w,w,p,w,o,p,k,s,u\n",
            "e,x,s,g,f,n,f,w,b,k,t,e,s,s,w,w,p,w,o,e,n,a,g\n",
            "e,x,y,y,t,a,f,c,b,n,e,c,s,s,w,w,p,w,o,p,k,n,g\n",
            "e,b,s,w,t,a,f,c,b,g,e,c,s,s,w,w,p,w,o,p,k,n,m\n",
            "e,b,y,w,t,l,f,c,b,n,e,c,s,s,w,w,p,w,o,p,n,s,m\n",
            "p,x,y,w,t,p,f,c,n,p,e,e,s,s,w,w,p,w,o,p,k,v,g\n",
            "e,b,s,y,t,a,f,c,b,g,e,c,s,s,w,w,p,w,o,p,k,s,m\n"
          ]
        }
      ]
    },
    {
      "cell_type": "code",
      "source": [
        "ver_contenido(\"agaricus-lepiota.names\")"
      ],
      "metadata": {
        "colab": {
          "base_uri": "https://localhost:8080/"
        },
        "id": "ki72kRPZjWxX",
        "outputId": "4d1715e5-c86d-4861-eba0-78dda1bd71ac"
      },
      "execution_count": 49,
      "outputs": [
        {
          "output_type": "stream",
          "name": "stdout",
          "text": [
            "1. Title: Mushroom Database\n",
            "\n",
            "2. Sources:\n",
            "(a) Mushroom records drawn from The Audubon Society Field Guide to North\n",
            "American Mushrooms (1981). G. H. Lincoff (Pres.), New York: Alfred\n",
            "A. Knopf\n",
            "(b) Donor: Jeff Schlimmer (Jeffrey.Schlimmer@a.gp.cs.cmu.edu)\n",
            "(c) Date: 27 April 1987\n",
            "\n",
            "3. Past Usage:\n"
          ]
        }
      ]
    },
    {
      "cell_type": "code",
      "source": [
        "#Como es una cadena de texto, no tenemos el nombre de las columnas. Como esa información la tenemos disponible,\n",
        "#creamos una lista con sus nombres para asignarla luego a un DataFrame\n",
        "nombres = [\n",
        " \"target\", \"cap_shape\", \"cap_surface\", \"cap_color\", \"bruises\", \"odor\",\n",
        " \"gill_attachment\", \"gill_spacing\", \"gill_size\", \"gill_color\", \"stalk_shape\",\n",
        " \"stalk_root\", \"stalk_surface_above_ring\", \"stalk_surface_below_ring\",\n",
        " \"stalk_color_above_ring\", \"stalk_color_below_ring\", \"veil_type\",\n",
        " \"veil_color\", \"ring_number\", \"ring_type\", \"spore_print_color\", \"population\",\n",
        " \"habitat\"\n",
        "]"
      ],
      "metadata": {
        "id": "YgJDOIWSjlNu"
      },
      "execution_count": 50,
      "outputs": []
    },
    {
      "cell_type": "code",
      "source": [
        "#Creamos el df llamar agar\n",
        "agar = pd.read_csv(\"agaricus-lepiota.data\", names=nombres)"
      ],
      "metadata": {
        "id": "Rnj7JHs9jthS"
      },
      "execution_count": 51,
      "outputs": []
    },
    {
      "cell_type": "code",
      "source": [
        "#Lo exploramos para tener una primera visión\n",
        "agar.head(10)"
      ],
      "metadata": {
        "colab": {
          "base_uri": "https://localhost:8080/",
          "height": 412
        },
        "id": "q78-sc4ljurH",
        "outputId": "2481feac-cf3a-4434-b038-592c053d8677"
      },
      "execution_count": 52,
      "outputs": [
        {
          "output_type": "execute_result",
          "data": {
            "text/plain": [
              "  target cap_shape cap_surface cap_color bruises odor gill_attachment  \\\n",
              "0      p         x           s         n       t    p               f   \n",
              "1      e         x           s         y       t    a               f   \n",
              "2      e         b           s         w       t    l               f   \n",
              "3      p         x           y         w       t    p               f   \n",
              "4      e         x           s         g       f    n               f   \n",
              "5      e         x           y         y       t    a               f   \n",
              "6      e         b           s         w       t    a               f   \n",
              "7      e         b           y         w       t    l               f   \n",
              "8      p         x           y         w       t    p               f   \n",
              "9      e         b           s         y       t    a               f   \n",
              "\n",
              "  gill_spacing gill_size gill_color  ... stalk_surface_below_ring  \\\n",
              "0            c         n          k  ...                        s   \n",
              "1            c         b          k  ...                        s   \n",
              "2            c         b          n  ...                        s   \n",
              "3            c         n          n  ...                        s   \n",
              "4            w         b          k  ...                        s   \n",
              "5            c         b          n  ...                        s   \n",
              "6            c         b          g  ...                        s   \n",
              "7            c         b          n  ...                        s   \n",
              "8            c         n          p  ...                        s   \n",
              "9            c         b          g  ...                        s   \n",
              "\n",
              "  stalk_color_above_ring stalk_color_below_ring veil_type veil_color  \\\n",
              "0                      w                      w         p          w   \n",
              "1                      w                      w         p          w   \n",
              "2                      w                      w         p          w   \n",
              "3                      w                      w         p          w   \n",
              "4                      w                      w         p          w   \n",
              "5                      w                      w         p          w   \n",
              "6                      w                      w         p          w   \n",
              "7                      w                      w         p          w   \n",
              "8                      w                      w         p          w   \n",
              "9                      w                      w         p          w   \n",
              "\n",
              "  ring_number ring_type spore_print_color population habitat  \n",
              "0           o         p                 k          s       u  \n",
              "1           o         p                 n          n       g  \n",
              "2           o         p                 n          n       m  \n",
              "3           o         p                 k          s       u  \n",
              "4           o         e                 n          a       g  \n",
              "5           o         p                 k          n       g  \n",
              "6           o         p                 k          n       m  \n",
              "7           o         p                 n          s       m  \n",
              "8           o         p                 k          v       g  \n",
              "9           o         p                 k          s       m  \n",
              "\n",
              "[10 rows x 23 columns]"
            ],
            "text/html": [
              "\n",
              "  <div id=\"df-d2f2b507-7d40-4e30-84bc-5ebf2c98f208\" class=\"colab-df-container\">\n",
              "    <div>\n",
              "<style scoped>\n",
              "    .dataframe tbody tr th:only-of-type {\n",
              "        vertical-align: middle;\n",
              "    }\n",
              "\n",
              "    .dataframe tbody tr th {\n",
              "        vertical-align: top;\n",
              "    }\n",
              "\n",
              "    .dataframe thead th {\n",
              "        text-align: right;\n",
              "    }\n",
              "</style>\n",
              "<table border=\"1\" class=\"dataframe\">\n",
              "  <thead>\n",
              "    <tr style=\"text-align: right;\">\n",
              "      <th></th>\n",
              "      <th>target</th>\n",
              "      <th>cap_shape</th>\n",
              "      <th>cap_surface</th>\n",
              "      <th>cap_color</th>\n",
              "      <th>bruises</th>\n",
              "      <th>odor</th>\n",
              "      <th>gill_attachment</th>\n",
              "      <th>gill_spacing</th>\n",
              "      <th>gill_size</th>\n",
              "      <th>gill_color</th>\n",
              "      <th>...</th>\n",
              "      <th>stalk_surface_below_ring</th>\n",
              "      <th>stalk_color_above_ring</th>\n",
              "      <th>stalk_color_below_ring</th>\n",
              "      <th>veil_type</th>\n",
              "      <th>veil_color</th>\n",
              "      <th>ring_number</th>\n",
              "      <th>ring_type</th>\n",
              "      <th>spore_print_color</th>\n",
              "      <th>population</th>\n",
              "      <th>habitat</th>\n",
              "    </tr>\n",
              "  </thead>\n",
              "  <tbody>\n",
              "    <tr>\n",
              "      <th>0</th>\n",
              "      <td>p</td>\n",
              "      <td>x</td>\n",
              "      <td>s</td>\n",
              "      <td>n</td>\n",
              "      <td>t</td>\n",
              "      <td>p</td>\n",
              "      <td>f</td>\n",
              "      <td>c</td>\n",
              "      <td>n</td>\n",
              "      <td>k</td>\n",
              "      <td>...</td>\n",
              "      <td>s</td>\n",
              "      <td>w</td>\n",
              "      <td>w</td>\n",
              "      <td>p</td>\n",
              "      <td>w</td>\n",
              "      <td>o</td>\n",
              "      <td>p</td>\n",
              "      <td>k</td>\n",
              "      <td>s</td>\n",
              "      <td>u</td>\n",
              "    </tr>\n",
              "    <tr>\n",
              "      <th>1</th>\n",
              "      <td>e</td>\n",
              "      <td>x</td>\n",
              "      <td>s</td>\n",
              "      <td>y</td>\n",
              "      <td>t</td>\n",
              "      <td>a</td>\n",
              "      <td>f</td>\n",
              "      <td>c</td>\n",
              "      <td>b</td>\n",
              "      <td>k</td>\n",
              "      <td>...</td>\n",
              "      <td>s</td>\n",
              "      <td>w</td>\n",
              "      <td>w</td>\n",
              "      <td>p</td>\n",
              "      <td>w</td>\n",
              "      <td>o</td>\n",
              "      <td>p</td>\n",
              "      <td>n</td>\n",
              "      <td>n</td>\n",
              "      <td>g</td>\n",
              "    </tr>\n",
              "    <tr>\n",
              "      <th>2</th>\n",
              "      <td>e</td>\n",
              "      <td>b</td>\n",
              "      <td>s</td>\n",
              "      <td>w</td>\n",
              "      <td>t</td>\n",
              "      <td>l</td>\n",
              "      <td>f</td>\n",
              "      <td>c</td>\n",
              "      <td>b</td>\n",
              "      <td>n</td>\n",
              "      <td>...</td>\n",
              "      <td>s</td>\n",
              "      <td>w</td>\n",
              "      <td>w</td>\n",
              "      <td>p</td>\n",
              "      <td>w</td>\n",
              "      <td>o</td>\n",
              "      <td>p</td>\n",
              "      <td>n</td>\n",
              "      <td>n</td>\n",
              "      <td>m</td>\n",
              "    </tr>\n",
              "    <tr>\n",
              "      <th>3</th>\n",
              "      <td>p</td>\n",
              "      <td>x</td>\n",
              "      <td>y</td>\n",
              "      <td>w</td>\n",
              "      <td>t</td>\n",
              "      <td>p</td>\n",
              "      <td>f</td>\n",
              "      <td>c</td>\n",
              "      <td>n</td>\n",
              "      <td>n</td>\n",
              "      <td>...</td>\n",
              "      <td>s</td>\n",
              "      <td>w</td>\n",
              "      <td>w</td>\n",
              "      <td>p</td>\n",
              "      <td>w</td>\n",
              "      <td>o</td>\n",
              "      <td>p</td>\n",
              "      <td>k</td>\n",
              "      <td>s</td>\n",
              "      <td>u</td>\n",
              "    </tr>\n",
              "    <tr>\n",
              "      <th>4</th>\n",
              "      <td>e</td>\n",
              "      <td>x</td>\n",
              "      <td>s</td>\n",
              "      <td>g</td>\n",
              "      <td>f</td>\n",
              "      <td>n</td>\n",
              "      <td>f</td>\n",
              "      <td>w</td>\n",
              "      <td>b</td>\n",
              "      <td>k</td>\n",
              "      <td>...</td>\n",
              "      <td>s</td>\n",
              "      <td>w</td>\n",
              "      <td>w</td>\n",
              "      <td>p</td>\n",
              "      <td>w</td>\n",
              "      <td>o</td>\n",
              "      <td>e</td>\n",
              "      <td>n</td>\n",
              "      <td>a</td>\n",
              "      <td>g</td>\n",
              "    </tr>\n",
              "    <tr>\n",
              "      <th>5</th>\n",
              "      <td>e</td>\n",
              "      <td>x</td>\n",
              "      <td>y</td>\n",
              "      <td>y</td>\n",
              "      <td>t</td>\n",
              "      <td>a</td>\n",
              "      <td>f</td>\n",
              "      <td>c</td>\n",
              "      <td>b</td>\n",
              "      <td>n</td>\n",
              "      <td>...</td>\n",
              "      <td>s</td>\n",
              "      <td>w</td>\n",
              "      <td>w</td>\n",
              "      <td>p</td>\n",
              "      <td>w</td>\n",
              "      <td>o</td>\n",
              "      <td>p</td>\n",
              "      <td>k</td>\n",
              "      <td>n</td>\n",
              "      <td>g</td>\n",
              "    </tr>\n",
              "    <tr>\n",
              "      <th>6</th>\n",
              "      <td>e</td>\n",
              "      <td>b</td>\n",
              "      <td>s</td>\n",
              "      <td>w</td>\n",
              "      <td>t</td>\n",
              "      <td>a</td>\n",
              "      <td>f</td>\n",
              "      <td>c</td>\n",
              "      <td>b</td>\n",
              "      <td>g</td>\n",
              "      <td>...</td>\n",
              "      <td>s</td>\n",
              "      <td>w</td>\n",
              "      <td>w</td>\n",
              "      <td>p</td>\n",
              "      <td>w</td>\n",
              "      <td>o</td>\n",
              "      <td>p</td>\n",
              "      <td>k</td>\n",
              "      <td>n</td>\n",
              "      <td>m</td>\n",
              "    </tr>\n",
              "    <tr>\n",
              "      <th>7</th>\n",
              "      <td>e</td>\n",
              "      <td>b</td>\n",
              "      <td>y</td>\n",
              "      <td>w</td>\n",
              "      <td>t</td>\n",
              "      <td>l</td>\n",
              "      <td>f</td>\n",
              "      <td>c</td>\n",
              "      <td>b</td>\n",
              "      <td>n</td>\n",
              "      <td>...</td>\n",
              "      <td>s</td>\n",
              "      <td>w</td>\n",
              "      <td>w</td>\n",
              "      <td>p</td>\n",
              "      <td>w</td>\n",
              "      <td>o</td>\n",
              "      <td>p</td>\n",
              "      <td>n</td>\n",
              "      <td>s</td>\n",
              "      <td>m</td>\n",
              "    </tr>\n",
              "    <tr>\n",
              "      <th>8</th>\n",
              "      <td>p</td>\n",
              "      <td>x</td>\n",
              "      <td>y</td>\n",
              "      <td>w</td>\n",
              "      <td>t</td>\n",
              "      <td>p</td>\n",
              "      <td>f</td>\n",
              "      <td>c</td>\n",
              "      <td>n</td>\n",
              "      <td>p</td>\n",
              "      <td>...</td>\n",
              "      <td>s</td>\n",
              "      <td>w</td>\n",
              "      <td>w</td>\n",
              "      <td>p</td>\n",
              "      <td>w</td>\n",
              "      <td>o</td>\n",
              "      <td>p</td>\n",
              "      <td>k</td>\n",
              "      <td>v</td>\n",
              "      <td>g</td>\n",
              "    </tr>\n",
              "    <tr>\n",
              "      <th>9</th>\n",
              "      <td>e</td>\n",
              "      <td>b</td>\n",
              "      <td>s</td>\n",
              "      <td>y</td>\n",
              "      <td>t</td>\n",
              "      <td>a</td>\n",
              "      <td>f</td>\n",
              "      <td>c</td>\n",
              "      <td>b</td>\n",
              "      <td>g</td>\n",
              "      <td>...</td>\n",
              "      <td>s</td>\n",
              "      <td>w</td>\n",
              "      <td>w</td>\n",
              "      <td>p</td>\n",
              "      <td>w</td>\n",
              "      <td>o</td>\n",
              "      <td>p</td>\n",
              "      <td>k</td>\n",
              "      <td>s</td>\n",
              "      <td>m</td>\n",
              "    </tr>\n",
              "  </tbody>\n",
              "</table>\n",
              "<p>10 rows × 23 columns</p>\n",
              "</div>\n",
              "    <div class=\"colab-df-buttons\">\n",
              "\n",
              "  <div class=\"colab-df-container\">\n",
              "    <button class=\"colab-df-convert\" onclick=\"convertToInteractive('df-d2f2b507-7d40-4e30-84bc-5ebf2c98f208')\"\n",
              "            title=\"Convert this dataframe to an interactive table.\"\n",
              "            style=\"display:none;\">\n",
              "\n",
              "  <svg xmlns=\"http://www.w3.org/2000/svg\" height=\"24px\" viewBox=\"0 -960 960 960\">\n",
              "    <path d=\"M120-120v-720h720v720H120Zm60-500h600v-160H180v160Zm220 220h160v-160H400v160Zm0 220h160v-160H400v160ZM180-400h160v-160H180v160Zm440 0h160v-160H620v160ZM180-180h160v-160H180v160Zm440 0h160v-160H620v160Z\"/>\n",
              "  </svg>\n",
              "    </button>\n",
              "\n",
              "  <style>\n",
              "    .colab-df-container {\n",
              "      display:flex;\n",
              "      gap: 12px;\n",
              "    }\n",
              "\n",
              "    .colab-df-convert {\n",
              "      background-color: #E8F0FE;\n",
              "      border: none;\n",
              "      border-radius: 50%;\n",
              "      cursor: pointer;\n",
              "      display: none;\n",
              "      fill: #1967D2;\n",
              "      height: 32px;\n",
              "      padding: 0 0 0 0;\n",
              "      width: 32px;\n",
              "    }\n",
              "\n",
              "    .colab-df-convert:hover {\n",
              "      background-color: #E2EBFA;\n",
              "      box-shadow: 0px 1px 2px rgba(60, 64, 67, 0.3), 0px 1px 3px 1px rgba(60, 64, 67, 0.15);\n",
              "      fill: #174EA6;\n",
              "    }\n",
              "\n",
              "    .colab-df-buttons div {\n",
              "      margin-bottom: 4px;\n",
              "    }\n",
              "\n",
              "    [theme=dark] .colab-df-convert {\n",
              "      background-color: #3B4455;\n",
              "      fill: #D2E3FC;\n",
              "    }\n",
              "\n",
              "    [theme=dark] .colab-df-convert:hover {\n",
              "      background-color: #434B5C;\n",
              "      box-shadow: 0px 1px 3px 1px rgba(0, 0, 0, 0.15);\n",
              "      filter: drop-shadow(0px 1px 2px rgba(0, 0, 0, 0.3));\n",
              "      fill: #FFFFFF;\n",
              "    }\n",
              "  </style>\n",
              "\n",
              "    <script>\n",
              "      const buttonEl =\n",
              "        document.querySelector('#df-d2f2b507-7d40-4e30-84bc-5ebf2c98f208 button.colab-df-convert');\n",
              "      buttonEl.style.display =\n",
              "        google.colab.kernel.accessAllowed ? 'block' : 'none';\n",
              "\n",
              "      async function convertToInteractive(key) {\n",
              "        const element = document.querySelector('#df-d2f2b507-7d40-4e30-84bc-5ebf2c98f208');\n",
              "        const dataTable =\n",
              "          await google.colab.kernel.invokeFunction('convertToInteractive',\n",
              "                                                    [key], {});\n",
              "        if (!dataTable) return;\n",
              "\n",
              "        const docLinkHtml = 'Like what you see? Visit the ' +\n",
              "          '<a target=\"_blank\" href=https://colab.research.google.com/notebooks/data_table.ipynb>data table notebook</a>'\n",
              "          + ' to learn more about interactive tables.';\n",
              "        element.innerHTML = '';\n",
              "        dataTable['output_type'] = 'display_data';\n",
              "        await google.colab.output.renderOutput(dataTable, element);\n",
              "        const docLink = document.createElement('div');\n",
              "        docLink.innerHTML = docLinkHtml;\n",
              "        element.appendChild(docLink);\n",
              "      }\n",
              "    </script>\n",
              "  </div>\n",
              "\n",
              "\n",
              "<div id=\"df-831b795b-e133-4c69-85f1-0ba987993d0d\">\n",
              "  <button class=\"colab-df-quickchart\" onclick=\"quickchart('df-831b795b-e133-4c69-85f1-0ba987993d0d')\"\n",
              "            title=\"Suggest charts\"\n",
              "            style=\"display:none;\">\n",
              "\n",
              "<svg xmlns=\"http://www.w3.org/2000/svg\" height=\"24px\"viewBox=\"0 0 24 24\"\n",
              "     width=\"24px\">\n",
              "    <g>\n",
              "        <path d=\"M19 3H5c-1.1 0-2 .9-2 2v14c0 1.1.9 2 2 2h14c1.1 0 2-.9 2-2V5c0-1.1-.9-2-2-2zM9 17H7v-7h2v7zm4 0h-2V7h2v10zm4 0h-2v-4h2v4z\"/>\n",
              "    </g>\n",
              "</svg>\n",
              "  </button>\n",
              "\n",
              "<style>\n",
              "  .colab-df-quickchart {\n",
              "      --bg-color: #E8F0FE;\n",
              "      --fill-color: #1967D2;\n",
              "      --hover-bg-color: #E2EBFA;\n",
              "      --hover-fill-color: #174EA6;\n",
              "      --disabled-fill-color: #AAA;\n",
              "      --disabled-bg-color: #DDD;\n",
              "  }\n",
              "\n",
              "  [theme=dark] .colab-df-quickchart {\n",
              "      --bg-color: #3B4455;\n",
              "      --fill-color: #D2E3FC;\n",
              "      --hover-bg-color: #434B5C;\n",
              "      --hover-fill-color: #FFFFFF;\n",
              "      --disabled-bg-color: #3B4455;\n",
              "      --disabled-fill-color: #666;\n",
              "  }\n",
              "\n",
              "  .colab-df-quickchart {\n",
              "    background-color: var(--bg-color);\n",
              "    border: none;\n",
              "    border-radius: 50%;\n",
              "    cursor: pointer;\n",
              "    display: none;\n",
              "    fill: var(--fill-color);\n",
              "    height: 32px;\n",
              "    padding: 0;\n",
              "    width: 32px;\n",
              "  }\n",
              "\n",
              "  .colab-df-quickchart:hover {\n",
              "    background-color: var(--hover-bg-color);\n",
              "    box-shadow: 0 1px 2px rgba(60, 64, 67, 0.3), 0 1px 3px 1px rgba(60, 64, 67, 0.15);\n",
              "    fill: var(--button-hover-fill-color);\n",
              "  }\n",
              "\n",
              "  .colab-df-quickchart-complete:disabled,\n",
              "  .colab-df-quickchart-complete:disabled:hover {\n",
              "    background-color: var(--disabled-bg-color);\n",
              "    fill: var(--disabled-fill-color);\n",
              "    box-shadow: none;\n",
              "  }\n",
              "\n",
              "  .colab-df-spinner {\n",
              "    border: 2px solid var(--fill-color);\n",
              "    border-color: transparent;\n",
              "    border-bottom-color: var(--fill-color);\n",
              "    animation:\n",
              "      spin 1s steps(1) infinite;\n",
              "  }\n",
              "\n",
              "  @keyframes spin {\n",
              "    0% {\n",
              "      border-color: transparent;\n",
              "      border-bottom-color: var(--fill-color);\n",
              "      border-left-color: var(--fill-color);\n",
              "    }\n",
              "    20% {\n",
              "      border-color: transparent;\n",
              "      border-left-color: var(--fill-color);\n",
              "      border-top-color: var(--fill-color);\n",
              "    }\n",
              "    30% {\n",
              "      border-color: transparent;\n",
              "      border-left-color: var(--fill-color);\n",
              "      border-top-color: var(--fill-color);\n",
              "      border-right-color: var(--fill-color);\n",
              "    }\n",
              "    40% {\n",
              "      border-color: transparent;\n",
              "      border-right-color: var(--fill-color);\n",
              "      border-top-color: var(--fill-color);\n",
              "    }\n",
              "    60% {\n",
              "      border-color: transparent;\n",
              "      border-right-color: var(--fill-color);\n",
              "    }\n",
              "    80% {\n",
              "      border-color: transparent;\n",
              "      border-right-color: var(--fill-color);\n",
              "      border-bottom-color: var(--fill-color);\n",
              "    }\n",
              "    90% {\n",
              "      border-color: transparent;\n",
              "      border-bottom-color: var(--fill-color);\n",
              "    }\n",
              "  }\n",
              "</style>\n",
              "\n",
              "  <script>\n",
              "    async function quickchart(key) {\n",
              "      const quickchartButtonEl =\n",
              "        document.querySelector('#' + key + ' button');\n",
              "      quickchartButtonEl.disabled = true;  // To prevent multiple clicks.\n",
              "      quickchartButtonEl.classList.add('colab-df-spinner');\n",
              "      try {\n",
              "        const charts = await google.colab.kernel.invokeFunction(\n",
              "            'suggestCharts', [key], {});\n",
              "      } catch (error) {\n",
              "        console.error('Error during call to suggestCharts:', error);\n",
              "      }\n",
              "      quickchartButtonEl.classList.remove('colab-df-spinner');\n",
              "      quickchartButtonEl.classList.add('colab-df-quickchart-complete');\n",
              "    }\n",
              "    (() => {\n",
              "      let quickchartButtonEl =\n",
              "        document.querySelector('#df-831b795b-e133-4c69-85f1-0ba987993d0d button');\n",
              "      quickchartButtonEl.style.display =\n",
              "        google.colab.kernel.accessAllowed ? 'block' : 'none';\n",
              "    })();\n",
              "  </script>\n",
              "</div>\n",
              "    </div>\n",
              "  </div>\n"
            ]
          },
          "metadata": {},
          "execution_count": 52
        }
      ]
    },
    {
      "cell_type": "code",
      "source": [
        "#Miramos que no poseaa nulos\n",
        "agar.isna().sum()"
      ],
      "metadata": {
        "colab": {
          "base_uri": "https://localhost:8080/"
        },
        "id": "i1-MJnLVjy5m",
        "outputId": "9dd6f766-d6cd-4170-abe3-97b48251b392"
      },
      "execution_count": 57,
      "outputs": [
        {
          "output_type": "execute_result",
          "data": {
            "text/plain": [
              "target                      0\n",
              "cap_shape                   0\n",
              "cap_surface                 0\n",
              "cap_color                   0\n",
              "bruises                     0\n",
              "odor                        0\n",
              "gill_attachment             0\n",
              "gill_spacing                0\n",
              "gill_size                   0\n",
              "gill_color                  0\n",
              "stalk_shape                 0\n",
              "stalk_root                  0\n",
              "stalk_surface_above_ring    0\n",
              "stalk_surface_below_ring    0\n",
              "stalk_color_above_ring      0\n",
              "stalk_color_below_ring      0\n",
              "veil_type                   0\n",
              "veil_color                  0\n",
              "ring_number                 0\n",
              "ring_type                   0\n",
              "spore_print_color           0\n",
              "population                  0\n",
              "habitat                     0\n",
              "dtype: int64"
            ]
          },
          "metadata": {},
          "execution_count": 57
        }
      ]
    },
    {
      "cell_type": "code",
      "source": [
        "agar.dtypes"
      ],
      "metadata": {
        "colab": {
          "base_uri": "https://localhost:8080/"
        },
        "id": "YGCWOdkgpGea",
        "outputId": "1fe3290e-3544-4259-c5c1-1e1fd3046678"
      },
      "execution_count": 60,
      "outputs": [
        {
          "output_type": "execute_result",
          "data": {
            "text/plain": [
              "target                      object\n",
              "cap_shape                   object\n",
              "cap_surface                 object\n",
              "cap_color                   object\n",
              "bruises                     object\n",
              "odor                        object\n",
              "gill_attachment             object\n",
              "gill_spacing                object\n",
              "gill_size                   object\n",
              "gill_color                  object\n",
              "stalk_shape                 object\n",
              "stalk_root                  object\n",
              "stalk_surface_above_ring    object\n",
              "stalk_surface_below_ring    object\n",
              "stalk_color_above_ring      object\n",
              "stalk_color_below_ring      object\n",
              "veil_type                   object\n",
              "veil_color                  object\n",
              "ring_number                 object\n",
              "ring_type                   object\n",
              "spore_print_color           object\n",
              "population                  object\n",
              "habitat                     object\n",
              "dtype: object"
            ]
          },
          "metadata": {},
          "execution_count": 60
        }
      ]
    },
    {
      "cell_type": "code",
      "source": [
        "#Necesitamos tanformar el tipo de valor de las variables, ya que XGBoost requiere matrices\n",
        "#numéricas para funcionar correctamente\n",
        "\n",
        "def str_a_num(df):\n",
        "    for col in df:\n",
        "        original = df[col].unique()\n",
        "        reemplazo = list(range(len(original)))\n",
        "        mapa = dict(zip(original, reemplazo))\n",
        "        df[col] = df[col].replace(mapa)\n",
        "    return df"
      ],
      "metadata": {
        "id": "CpP3nOzipoiR"
      },
      "execution_count": 76,
      "outputs": []
    },
    {
      "cell_type": "code",
      "source": [
        "#vemos el resultado\n",
        "agar = str_a_num(agar)\n",
        "agar.head(5)\n"
      ],
      "metadata": {
        "colab": {
          "base_uri": "https://localhost:8080/",
          "height": 255
        },
        "id": "T2k3ADShrzti",
        "outputId": "ccf32752-c84c-4f1a-96f2-ad09500b992c"
      },
      "execution_count": 77,
      "outputs": [
        {
          "output_type": "execute_result",
          "data": {
            "text/plain": [
              "   target  cap_shape  cap_surface  cap_color  bruises  odor  gill_attachment  \\\n",
              "0       0          0            0          0        0     0                0   \n",
              "1       1          0            0          1        0     1                0   \n",
              "2       1          1            0          2        0     2                0   \n",
              "3       0          0            1          2        0     0                0   \n",
              "4       1          0            0          3        1     3                0   \n",
              "\n",
              "   gill_spacing  gill_size  gill_color  ...  stalk_surface_below_ring  \\\n",
              "0             0          0           0  ...                         0   \n",
              "1             0          1           0  ...                         0   \n",
              "2             0          1           1  ...                         0   \n",
              "3             0          0           1  ...                         0   \n",
              "4             1          1           0  ...                         0   \n",
              "\n",
              "   stalk_color_above_ring  stalk_color_below_ring  veil_type  veil_color  \\\n",
              "0                       0                       0          0           0   \n",
              "1                       0                       0          0           0   \n",
              "2                       0                       0          0           0   \n",
              "3                       0                       0          0           0   \n",
              "4                       0                       0          0           0   \n",
              "\n",
              "   ring_number  ring_type  spore_print_color  population  habitat  \n",
              "0            0          0                  0           0        0  \n",
              "1            0          0                  1           1        1  \n",
              "2            0          0                  1           1        2  \n",
              "3            0          0                  0           0        0  \n",
              "4            0          1                  1           2        1  \n",
              "\n",
              "[5 rows x 23 columns]"
            ],
            "text/html": [
              "\n",
              "  <div id=\"df-2e7756b5-9301-45f7-9a98-1b971ec42f0e\" class=\"colab-df-container\">\n",
              "    <div>\n",
              "<style scoped>\n",
              "    .dataframe tbody tr th:only-of-type {\n",
              "        vertical-align: middle;\n",
              "    }\n",
              "\n",
              "    .dataframe tbody tr th {\n",
              "        vertical-align: top;\n",
              "    }\n",
              "\n",
              "    .dataframe thead th {\n",
              "        text-align: right;\n",
              "    }\n",
              "</style>\n",
              "<table border=\"1\" class=\"dataframe\">\n",
              "  <thead>\n",
              "    <tr style=\"text-align: right;\">\n",
              "      <th></th>\n",
              "      <th>target</th>\n",
              "      <th>cap_shape</th>\n",
              "      <th>cap_surface</th>\n",
              "      <th>cap_color</th>\n",
              "      <th>bruises</th>\n",
              "      <th>odor</th>\n",
              "      <th>gill_attachment</th>\n",
              "      <th>gill_spacing</th>\n",
              "      <th>gill_size</th>\n",
              "      <th>gill_color</th>\n",
              "      <th>...</th>\n",
              "      <th>stalk_surface_below_ring</th>\n",
              "      <th>stalk_color_above_ring</th>\n",
              "      <th>stalk_color_below_ring</th>\n",
              "      <th>veil_type</th>\n",
              "      <th>veil_color</th>\n",
              "      <th>ring_number</th>\n",
              "      <th>ring_type</th>\n",
              "      <th>spore_print_color</th>\n",
              "      <th>population</th>\n",
              "      <th>habitat</th>\n",
              "    </tr>\n",
              "  </thead>\n",
              "  <tbody>\n",
              "    <tr>\n",
              "      <th>0</th>\n",
              "      <td>0</td>\n",
              "      <td>0</td>\n",
              "      <td>0</td>\n",
              "      <td>0</td>\n",
              "      <td>0</td>\n",
              "      <td>0</td>\n",
              "      <td>0</td>\n",
              "      <td>0</td>\n",
              "      <td>0</td>\n",
              "      <td>0</td>\n",
              "      <td>...</td>\n",
              "      <td>0</td>\n",
              "      <td>0</td>\n",
              "      <td>0</td>\n",
              "      <td>0</td>\n",
              "      <td>0</td>\n",
              "      <td>0</td>\n",
              "      <td>0</td>\n",
              "      <td>0</td>\n",
              "      <td>0</td>\n",
              "      <td>0</td>\n",
              "    </tr>\n",
              "    <tr>\n",
              "      <th>1</th>\n",
              "      <td>1</td>\n",
              "      <td>0</td>\n",
              "      <td>0</td>\n",
              "      <td>1</td>\n",
              "      <td>0</td>\n",
              "      <td>1</td>\n",
              "      <td>0</td>\n",
              "      <td>0</td>\n",
              "      <td>1</td>\n",
              "      <td>0</td>\n",
              "      <td>...</td>\n",
              "      <td>0</td>\n",
              "      <td>0</td>\n",
              "      <td>0</td>\n",
              "      <td>0</td>\n",
              "      <td>0</td>\n",
              "      <td>0</td>\n",
              "      <td>0</td>\n",
              "      <td>1</td>\n",
              "      <td>1</td>\n",
              "      <td>1</td>\n",
              "    </tr>\n",
              "    <tr>\n",
              "      <th>2</th>\n",
              "      <td>1</td>\n",
              "      <td>1</td>\n",
              "      <td>0</td>\n",
              "      <td>2</td>\n",
              "      <td>0</td>\n",
              "      <td>2</td>\n",
              "      <td>0</td>\n",
              "      <td>0</td>\n",
              "      <td>1</td>\n",
              "      <td>1</td>\n",
              "      <td>...</td>\n",
              "      <td>0</td>\n",
              "      <td>0</td>\n",
              "      <td>0</td>\n",
              "      <td>0</td>\n",
              "      <td>0</td>\n",
              "      <td>0</td>\n",
              "      <td>0</td>\n",
              "      <td>1</td>\n",
              "      <td>1</td>\n",
              "      <td>2</td>\n",
              "    </tr>\n",
              "    <tr>\n",
              "      <th>3</th>\n",
              "      <td>0</td>\n",
              "      <td>0</td>\n",
              "      <td>1</td>\n",
              "      <td>2</td>\n",
              "      <td>0</td>\n",
              "      <td>0</td>\n",
              "      <td>0</td>\n",
              "      <td>0</td>\n",
              "      <td>0</td>\n",
              "      <td>1</td>\n",
              "      <td>...</td>\n",
              "      <td>0</td>\n",
              "      <td>0</td>\n",
              "      <td>0</td>\n",
              "      <td>0</td>\n",
              "      <td>0</td>\n",
              "      <td>0</td>\n",
              "      <td>0</td>\n",
              "      <td>0</td>\n",
              "      <td>0</td>\n",
              "      <td>0</td>\n",
              "    </tr>\n",
              "    <tr>\n",
              "      <th>4</th>\n",
              "      <td>1</td>\n",
              "      <td>0</td>\n",
              "      <td>0</td>\n",
              "      <td>3</td>\n",
              "      <td>1</td>\n",
              "      <td>3</td>\n",
              "      <td>0</td>\n",
              "      <td>1</td>\n",
              "      <td>1</td>\n",
              "      <td>0</td>\n",
              "      <td>...</td>\n",
              "      <td>0</td>\n",
              "      <td>0</td>\n",
              "      <td>0</td>\n",
              "      <td>0</td>\n",
              "      <td>0</td>\n",
              "      <td>0</td>\n",
              "      <td>1</td>\n",
              "      <td>1</td>\n",
              "      <td>2</td>\n",
              "      <td>1</td>\n",
              "    </tr>\n",
              "  </tbody>\n",
              "</table>\n",
              "<p>5 rows × 23 columns</p>\n",
              "</div>\n",
              "    <div class=\"colab-df-buttons\">\n",
              "\n",
              "  <div class=\"colab-df-container\">\n",
              "    <button class=\"colab-df-convert\" onclick=\"convertToInteractive('df-2e7756b5-9301-45f7-9a98-1b971ec42f0e')\"\n",
              "            title=\"Convert this dataframe to an interactive table.\"\n",
              "            style=\"display:none;\">\n",
              "\n",
              "  <svg xmlns=\"http://www.w3.org/2000/svg\" height=\"24px\" viewBox=\"0 -960 960 960\">\n",
              "    <path d=\"M120-120v-720h720v720H120Zm60-500h600v-160H180v160Zm220 220h160v-160H400v160Zm0 220h160v-160H400v160ZM180-400h160v-160H180v160Zm440 0h160v-160H620v160ZM180-180h160v-160H180v160Zm440 0h160v-160H620v160Z\"/>\n",
              "  </svg>\n",
              "    </button>\n",
              "\n",
              "  <style>\n",
              "    .colab-df-container {\n",
              "      display:flex;\n",
              "      gap: 12px;\n",
              "    }\n",
              "\n",
              "    .colab-df-convert {\n",
              "      background-color: #E8F0FE;\n",
              "      border: none;\n",
              "      border-radius: 50%;\n",
              "      cursor: pointer;\n",
              "      display: none;\n",
              "      fill: #1967D2;\n",
              "      height: 32px;\n",
              "      padding: 0 0 0 0;\n",
              "      width: 32px;\n",
              "    }\n",
              "\n",
              "    .colab-df-convert:hover {\n",
              "      background-color: #E2EBFA;\n",
              "      box-shadow: 0px 1px 2px rgba(60, 64, 67, 0.3), 0px 1px 3px 1px rgba(60, 64, 67, 0.15);\n",
              "      fill: #174EA6;\n",
              "    }\n",
              "\n",
              "    .colab-df-buttons div {\n",
              "      margin-bottom: 4px;\n",
              "    }\n",
              "\n",
              "    [theme=dark] .colab-df-convert {\n",
              "      background-color: #3B4455;\n",
              "      fill: #D2E3FC;\n",
              "    }\n",
              "\n",
              "    [theme=dark] .colab-df-convert:hover {\n",
              "      background-color: #434B5C;\n",
              "      box-shadow: 0px 1px 3px 1px rgba(0, 0, 0, 0.15);\n",
              "      filter: drop-shadow(0px 1px 2px rgba(0, 0, 0, 0.3));\n",
              "      fill: #FFFFFF;\n",
              "    }\n",
              "  </style>\n",
              "\n",
              "    <script>\n",
              "      const buttonEl =\n",
              "        document.querySelector('#df-2e7756b5-9301-45f7-9a98-1b971ec42f0e button.colab-df-convert');\n",
              "      buttonEl.style.display =\n",
              "        google.colab.kernel.accessAllowed ? 'block' : 'none';\n",
              "\n",
              "      async function convertToInteractive(key) {\n",
              "        const element = document.querySelector('#df-2e7756b5-9301-45f7-9a98-1b971ec42f0e');\n",
              "        const dataTable =\n",
              "          await google.colab.kernel.invokeFunction('convertToInteractive',\n",
              "                                                    [key], {});\n",
              "        if (!dataTable) return;\n",
              "\n",
              "        const docLinkHtml = 'Like what you see? Visit the ' +\n",
              "          '<a target=\"_blank\" href=https://colab.research.google.com/notebooks/data_table.ipynb>data table notebook</a>'\n",
              "          + ' to learn more about interactive tables.';\n",
              "        element.innerHTML = '';\n",
              "        dataTable['output_type'] = 'display_data';\n",
              "        await google.colab.output.renderOutput(dataTable, element);\n",
              "        const docLink = document.createElement('div');\n",
              "        docLink.innerHTML = docLinkHtml;\n",
              "        element.appendChild(docLink);\n",
              "      }\n",
              "    </script>\n",
              "  </div>\n",
              "\n",
              "\n",
              "<div id=\"df-d8a54a2e-09a7-485b-afc3-9f349ae411a2\">\n",
              "  <button class=\"colab-df-quickchart\" onclick=\"quickchart('df-d8a54a2e-09a7-485b-afc3-9f349ae411a2')\"\n",
              "            title=\"Suggest charts\"\n",
              "            style=\"display:none;\">\n",
              "\n",
              "<svg xmlns=\"http://www.w3.org/2000/svg\" height=\"24px\"viewBox=\"0 0 24 24\"\n",
              "     width=\"24px\">\n",
              "    <g>\n",
              "        <path d=\"M19 3H5c-1.1 0-2 .9-2 2v14c0 1.1.9 2 2 2h14c1.1 0 2-.9 2-2V5c0-1.1-.9-2-2-2zM9 17H7v-7h2v7zm4 0h-2V7h2v10zm4 0h-2v-4h2v4z\"/>\n",
              "    </g>\n",
              "</svg>\n",
              "  </button>\n",
              "\n",
              "<style>\n",
              "  .colab-df-quickchart {\n",
              "      --bg-color: #E8F0FE;\n",
              "      --fill-color: #1967D2;\n",
              "      --hover-bg-color: #E2EBFA;\n",
              "      --hover-fill-color: #174EA6;\n",
              "      --disabled-fill-color: #AAA;\n",
              "      --disabled-bg-color: #DDD;\n",
              "  }\n",
              "\n",
              "  [theme=dark] .colab-df-quickchart {\n",
              "      --bg-color: #3B4455;\n",
              "      --fill-color: #D2E3FC;\n",
              "      --hover-bg-color: #434B5C;\n",
              "      --hover-fill-color: #FFFFFF;\n",
              "      --disabled-bg-color: #3B4455;\n",
              "      --disabled-fill-color: #666;\n",
              "  }\n",
              "\n",
              "  .colab-df-quickchart {\n",
              "    background-color: var(--bg-color);\n",
              "    border: none;\n",
              "    border-radius: 50%;\n",
              "    cursor: pointer;\n",
              "    display: none;\n",
              "    fill: var(--fill-color);\n",
              "    height: 32px;\n",
              "    padding: 0;\n",
              "    width: 32px;\n",
              "  }\n",
              "\n",
              "  .colab-df-quickchart:hover {\n",
              "    background-color: var(--hover-bg-color);\n",
              "    box-shadow: 0 1px 2px rgba(60, 64, 67, 0.3), 0 1px 3px 1px rgba(60, 64, 67, 0.15);\n",
              "    fill: var(--button-hover-fill-color);\n",
              "  }\n",
              "\n",
              "  .colab-df-quickchart-complete:disabled,\n",
              "  .colab-df-quickchart-complete:disabled:hover {\n",
              "    background-color: var(--disabled-bg-color);\n",
              "    fill: var(--disabled-fill-color);\n",
              "    box-shadow: none;\n",
              "  }\n",
              "\n",
              "  .colab-df-spinner {\n",
              "    border: 2px solid var(--fill-color);\n",
              "    border-color: transparent;\n",
              "    border-bottom-color: var(--fill-color);\n",
              "    animation:\n",
              "      spin 1s steps(1) infinite;\n",
              "  }\n",
              "\n",
              "  @keyframes spin {\n",
              "    0% {\n",
              "      border-color: transparent;\n",
              "      border-bottom-color: var(--fill-color);\n",
              "      border-left-color: var(--fill-color);\n",
              "    }\n",
              "    20% {\n",
              "      border-color: transparent;\n",
              "      border-left-color: var(--fill-color);\n",
              "      border-top-color: var(--fill-color);\n",
              "    }\n",
              "    30% {\n",
              "      border-color: transparent;\n",
              "      border-left-color: var(--fill-color);\n",
              "      border-top-color: var(--fill-color);\n",
              "      border-right-color: var(--fill-color);\n",
              "    }\n",
              "    40% {\n",
              "      border-color: transparent;\n",
              "      border-right-color: var(--fill-color);\n",
              "      border-top-color: var(--fill-color);\n",
              "    }\n",
              "    60% {\n",
              "      border-color: transparent;\n",
              "      border-right-color: var(--fill-color);\n",
              "    }\n",
              "    80% {\n",
              "      border-color: transparent;\n",
              "      border-right-color: var(--fill-color);\n",
              "      border-bottom-color: var(--fill-color);\n",
              "    }\n",
              "    90% {\n",
              "      border-color: transparent;\n",
              "      border-bottom-color: var(--fill-color);\n",
              "    }\n",
              "  }\n",
              "</style>\n",
              "\n",
              "  <script>\n",
              "    async function quickchart(key) {\n",
              "      const quickchartButtonEl =\n",
              "        document.querySelector('#' + key + ' button');\n",
              "      quickchartButtonEl.disabled = true;  // To prevent multiple clicks.\n",
              "      quickchartButtonEl.classList.add('colab-df-spinner');\n",
              "      try {\n",
              "        const charts = await google.colab.kernel.invokeFunction(\n",
              "            'suggestCharts', [key], {});\n",
              "      } catch (error) {\n",
              "        console.error('Error during call to suggestCharts:', error);\n",
              "      }\n",
              "      quickchartButtonEl.classList.remove('colab-df-spinner');\n",
              "      quickchartButtonEl.classList.add('colab-df-quickchart-complete');\n",
              "    }\n",
              "    (() => {\n",
              "      let quickchartButtonEl =\n",
              "        document.querySelector('#df-d8a54a2e-09a7-485b-afc3-9f349ae411a2 button');\n",
              "      quickchartButtonEl.style.display =\n",
              "        google.colab.kernel.accessAllowed ? 'block' : 'none';\n",
              "    })();\n",
              "  </script>\n",
              "</div>\n",
              "    </div>\n",
              "  </div>\n"
            ]
          },
          "metadata": {},
          "execution_count": 77
        }
      ]
    },
    {
      "cell_type": "markdown",
      "source": [
        "4. Generamos el modelo en sí para clasificar hongos venenosos"
      ],
      "metadata": {
        "id": "xNhjiUkZ1sXB"
      }
    },
    {
      "cell_type": "code",
      "source": [
        "#ahora generamos el split para luego generar el modelo de ML\n",
        "\n",
        "agar_train, agar_test = train_test_split(agar, test_size=.3, random_state=1999)"
      ],
      "metadata": {
        "id": "63d5dErwv3jR"
      },
      "execution_count": 78,
      "outputs": []
    },
    {
      "cell_type": "code",
      "source": [
        "agar_train.shape"
      ],
      "metadata": {
        "colab": {
          "base_uri": "https://localhost:8080/"
        },
        "id": "g6O-TFg1wMqK",
        "outputId": "f13c518e-5250-4fcf-aacc-9bbf2db002d4"
      },
      "execution_count": 79,
      "outputs": [
        {
          "output_type": "execute_result",
          "data": {
            "text/plain": [
              "(5686, 23)"
            ]
          },
          "metadata": {},
          "execution_count": 79
        }
      ]
    },
    {
      "cell_type": "code",
      "source": [
        "agar_test.shape"
      ],
      "metadata": {
        "colab": {
          "base_uri": "https://localhost:8080/"
        },
        "id": "MINTtCmiwNEm",
        "outputId": "990c4838-b498-4fb2-a4b5-82a468af744e"
      },
      "execution_count": 80,
      "outputs": [
        {
          "output_type": "execute_result",
          "data": {
            "text/plain": [
              "(2438, 23)"
            ]
          },
          "metadata": {},
          "execution_count": 80
        }
      ]
    },
    {
      "cell_type": "code",
      "source": [
        "agar_train_mat = xgb.DMatrix(agar_train.drop(\"target\", 1), label=agar_train[\"target\"])"
      ],
      "metadata": {
        "colab": {
          "base_uri": "https://localhost:8080/"
        },
        "id": "WoB9PfKpwclB",
        "outputId": "fdfccdeb-9a88-4b29-aab2-6f9372ca850a"
      },
      "execution_count": 82,
      "outputs": [
        {
          "output_type": "stream",
          "name": "stderr",
          "text": [
            "<ipython-input-82-e623a9341813>:1: FutureWarning: In a future version of pandas all arguments of DataFrame.drop except for the argument 'labels' will be keyword-only.\n",
            "  agar_train_mat = xgb.DMatrix(agar_train.drop(\"target\", 1), label=agar_train[\"target\"])\n"
          ]
        }
      ]
    },
    {
      "cell_type": "code",
      "source": [
        "agar_test_mat = xgb.DMatrix(agar_test.drop(\"target\", 1), label=agar_test[\"target\"])"
      ],
      "metadata": {
        "colab": {
          "base_uri": "https://localhost:8080/"
        },
        "id": "jN7P5Xfbwvk2",
        "outputId": "23c6f029-cd1e-47b1-9b3c-a5ca124c98cf"
      },
      "execution_count": 83,
      "outputs": [
        {
          "output_type": "stream",
          "name": "stderr",
          "text": [
            "<ipython-input-83-016cdf8f2b0a>:1: FutureWarning: In a future version of pandas all arguments of DataFrame.drop except for the argument 'labels' will be keyword-only.\n",
            "  agar_test_mat = xgb.DMatrix(agar_test.drop(\"target\", 1), label=agar_test[\"target\"])\n"
          ]
        }
      ]
    },
    {
      "cell_type": "code",
      "source": [
        "agar_train_mat"
      ],
      "metadata": {
        "colab": {
          "base_uri": "https://localhost:8080/"
        },
        "id": "lKCLMk_YxNtV",
        "outputId": "9d2fe0e0-34f1-4d67-92e9-549ebbbc6a98"
      },
      "execution_count": 84,
      "outputs": [
        {
          "output_type": "execute_result",
          "data": {
            "text/plain": [
              "<xgboost.core.DMatrix at 0x7b855c52c670>"
            ]
          },
          "metadata": {},
          "execution_count": 84
        }
      ]
    },
    {
      "cell_type": "code",
      "source": [
        "#Definimos los parametros del modelo\n",
        "parametros = {\"booster\":\"gbtree\", \"max_depth\": 2, \"eta\": 0.3, \"objective\": \"binary:logistic\",\n",
        "\"nthread\":2}\n",
        "\n",
        "rondas = 10"
      ],
      "metadata": {
        "id": "7QHwc1wzyXwX"
      },
      "execution_count": 86,
      "outputs": []
    },
    {
      "cell_type": "code",
      "source": [
        "evaluacion = [(agar_test_mat, \"eval\"), (agar_train_mat, \"train\")]"
      ],
      "metadata": {
        "id": "tqKWga3aynhR"
      },
      "execution_count": 87,
      "outputs": []
    },
    {
      "cell_type": "code",
      "source": [
        "#Y generamos el modelo\n",
        "modelo = xgb.train(parametros, agar_train_mat, rondas, evaluacion)"
      ],
      "metadata": {
        "colab": {
          "base_uri": "https://localhost:8080/"
        },
        "id": "HcTkmYvxyvlO",
        "outputId": "c8850231-d65a-42e0-8237-e28936ebb71b"
      },
      "execution_count": 88,
      "outputs": [
        {
          "output_type": "stream",
          "name": "stdout",
          "text": [
            "[0]\teval-logloss:0.45257\ttrain-logloss:0.45154\n",
            "[1]\teval-logloss:0.32120\ttrain-logloss:0.31939\n",
            "[2]\teval-logloss:0.23969\ttrain-logloss:0.23723\n",
            "[3]\teval-logloss:0.18634\ttrain-logloss:0.18330\n",
            "[4]\teval-logloss:0.15047\ttrain-logloss:0.14692\n",
            "[5]\teval-logloss:0.12284\ttrain-logloss:0.11964\n",
            "[6]\teval-logloss:0.10287\ttrain-logloss:0.09990\n",
            "[7]\teval-logloss:0.08615\ttrain-logloss:0.08230\n",
            "[8]\teval-logloss:0.07460\ttrain-logloss:0.07097\n",
            "[9]\teval-logloss:0.06607\ttrain-logloss:0.06264\n"
          ]
        },
        {
          "output_type": "stream",
          "name": "stderr",
          "text": [
            "/usr/local/lib/python3.10/dist-packages/xgboost/core.py:727: FutureWarning: Pass `evals` as keyword args.\n",
            "  warnings.warn(msg, FutureWarning)\n"
          ]
        }
      ]
    },
    {
      "cell_type": "code",
      "source": [
        "modelo"
      ],
      "metadata": {
        "colab": {
          "base_uri": "https://localhost:8080/"
        },
        "id": "z9MaEMBRy0Z4",
        "outputId": "c6a19f2c-ca7f-42e9-f0d3-a65d1d243a71"
      },
      "execution_count": 89,
      "outputs": [
        {
          "output_type": "execute_result",
          "data": {
            "text/plain": [
              "<xgboost.core.Booster at 0x7b855c52d540>"
            ]
          },
          "metadata": {},
          "execution_count": 89
        }
      ]
    },
    {
      "cell_type": "code",
      "source": [
        "#Generamos predicciones con nuestro modelo\n",
        "\n",
        "prediccion = modelo.predict(agar_test_mat)\n",
        "\n",
        "#Nuestro resultado es un arreglo de valores numéricos, cada uno representando la probabilidad\n",
        "#de que un caso en particular pertenezca al valor 1 de nuestra variable objetivo."
      ],
      "metadata": {
        "id": "ob4D0v3azzC9"
      },
      "execution_count": 90,
      "outputs": []
    },
    {
      "cell_type": "code",
      "source": [
        "prediccion"
      ],
      "metadata": {
        "colab": {
          "base_uri": "https://localhost:8080/"
        },
        "id": "vs8zPgDL0Gfw",
        "outputId": "02ef22d2-f22c-4688-b656-4fd5013a5905"
      },
      "execution_count": 92,
      "outputs": [
        {
          "output_type": "execute_result",
          "data": {
            "text/plain": [
              "array([0.02315998, 0.9644533 , 0.8598643 , ..., 0.02315998, 0.9644533 ,\n",
              "       0.9644533 ], dtype=float32)"
            ]
          },
          "metadata": {},
          "execution_count": 92
        }
      ]
    },
    {
      "cell_type": "code",
      "source": [
        "#Ahora lo que haremos es quedarnos sólo con las predicciones mayores a 0.5 ya que nos dan mayor confianza\n",
        "\n",
        "prediccion = [1 if i > .5 else 0 for i in prediccion]\n",
        "\n",
        "prediccion[:10]"
      ],
      "metadata": {
        "colab": {
          "base_uri": "https://localhost:8080/"
        },
        "id": "5qXrlabE04r-",
        "outputId": "d1283fc7-c400-4967-e28b-6a10fd58e691"
      },
      "execution_count": 94,
      "outputs": [
        {
          "output_type": "execute_result",
          "data": {
            "text/plain": [
              "[0, 1, 1, 0, 0, 1, 1, 1, 1, 0]"
            ]
          },
          "metadata": {},
          "execution_count": 94
        }
      ]
    },
    {
      "cell_type": "markdown",
      "source": [
        "5- Evaluamos el modelo que generamos"
      ],
      "metadata": {
        "id": "h-HWNScX10VW"
      }
    },
    {
      "cell_type": "code",
      "source": [
        "#Para evaluar el modelo utilizamos 3 funciones de Scikit Learn confusion_matrix(), accuracy_score(), classification_report()\n",
        "#Para facilitar el uso de estas funciones, definimos una función que nos devuelve resultados de las tres\n",
        "\n",
        "def metricas(objetivo, prediccion):\n",
        "    matriz_conf = confusion_matrix(objetivo, prediccion)\n",
        "    score = accuracy_score(objetivo, prediccion)\n",
        "    reporte = classification_report(objetivo, prediccion)\n",
        "    metricas = [matriz_conf, score, reporte]\n",
        "    return metricas"
      ],
      "metadata": {
        "id": "ceEBR5Ql13D6"
      },
      "execution_count": 112,
      "outputs": []
    },
    {
      "cell_type": "code",
      "source": [
        "metricas = metricas(agar_test[\"target\"], prediccion)\n",
        "[print(i) for i in metricas]"
      ],
      "metadata": {
        "colab": {
          "base_uri": "https://localhost:8080/"
        },
        "id": "iShdy3I63EUh",
        "outputId": "a6ba97f5-c47c-4c79-ae85-3a5ad93bc995"
      },
      "execution_count": 115,
      "outputs": [
        {
          "output_type": "stream",
          "name": "stdout",
          "text": [
            "[[1136   39]\n",
            " [   0 1263]]\n",
            "0.9840032813781788\n",
            "              precision    recall  f1-score   support\n",
            "\n",
            "           0       1.00      0.97      0.98      1175\n",
            "           1       0.97      1.00      0.98      1263\n",
            "\n",
            "    accuracy                           0.98      2438\n",
            "   macro avg       0.99      0.98      0.98      2438\n",
            "weighted avg       0.98      0.98      0.98      2438\n",
            "\n"
          ]
        },
        {
          "output_type": "execute_result",
          "data": {
            "text/plain": [
              "[None, None, None]"
            ]
          },
          "metadata": {},
          "execution_count": 115
        }
      ]
    },
    {
      "cell_type": "code",
      "source": [
        "#Vemos que los resultados son muy positivo, tal como ofrece el modelo de XGBoost\n",
        "#Sin embargo, generaremos un segundo modelo para comparar donde ajustaremos las métricas\n",
        "\n"
      ],
      "metadata": {
        "id": "H3NE8Oje55_4"
      },
      "execution_count": null,
      "outputs": []
    },
    {
      "cell_type": "code",
      "source": [
        "parametros_02 = {\"booster\":\"gbtree\", \"max_depth\": 4, \"eta\": .3, \"objective\": \"binary:logistic\",\n",
        "\"nthread\":2}\n",
        "rondas_02 = 100\n",
        "modelo_02 = xgb.train(parametros_02, agar_test_mat, rondas_02, evaluacion,\n",
        "early_stopping_rounds=10)\n",
        "\n"
      ],
      "metadata": {
        "colab": {
          "base_uri": "https://localhost:8080/"
        },
        "id": "FvKqwsxQ6HFi",
        "outputId": "d00605fe-4f4f-49b2-f122-e7b478ae58b0"
      },
      "execution_count": 122,
      "outputs": [
        {
          "output_type": "stream",
          "name": "stdout",
          "text": [
            "[0]\teval-logloss:0.44376\ttrain-logloss:0.44369\n",
            "[1]\teval-logloss:0.30598\ttrain-logloss:0.30602\n"
          ]
        },
        {
          "output_type": "stream",
          "name": "stderr",
          "text": [
            "/usr/local/lib/python3.10/dist-packages/xgboost/core.py:727: FutureWarning: Pass `evals` as keyword args.\n",
            "  warnings.warn(msg, FutureWarning)\n"
          ]
        },
        {
          "output_type": "stream",
          "name": "stdout",
          "text": [
            "[2]\teval-logloss:0.21895\ttrain-logloss:0.21877\n",
            "[3]\teval-logloss:0.15852\ttrain-logloss:0.15895\n",
            "[4]\teval-logloss:0.11565\ttrain-logloss:0.11624\n",
            "[5]\teval-logloss:0.08619\ttrain-logloss:0.08661\n",
            "[6]\teval-logloss:0.06434\ttrain-logloss:0.06473\n",
            "[7]\teval-logloss:0.04867\ttrain-logloss:0.04923\n",
            "[8]\teval-logloss:0.03649\ttrain-logloss:0.03700\n",
            "[9]\teval-logloss:0.02786\ttrain-logloss:0.02844\n",
            "[10]\teval-logloss:0.02117\ttrain-logloss:0.02168\n",
            "[11]\teval-logloss:0.01647\ttrain-logloss:0.01692\n",
            "[12]\teval-logloss:0.01294\ttrain-logloss:0.01341\n",
            "[13]\teval-logloss:0.01042\ttrain-logloss:0.01086\n",
            "[14]\teval-logloss:0.00859\ttrain-logloss:0.00905\n",
            "[15]\teval-logloss:0.00723\ttrain-logloss:0.00769\n",
            "[16]\teval-logloss:0.00599\ttrain-logloss:0.00636\n",
            "[17]\teval-logloss:0.00508\ttrain-logloss:0.00541\n",
            "[18]\teval-logloss:0.00446\ttrain-logloss:0.00479\n",
            "[19]\teval-logloss:0.00399\ttrain-logloss:0.00430\n",
            "[20]\teval-logloss:0.00351\ttrain-logloss:0.00376\n",
            "[21]\teval-logloss:0.00324\ttrain-logloss:0.00345\n",
            "[22]\teval-logloss:0.00295\ttrain-logloss:0.00317\n",
            "[23]\teval-logloss:0.00272\ttrain-logloss:0.00293\n",
            "[24]\teval-logloss:0.00254\ttrain-logloss:0.00273\n",
            "[25]\teval-logloss:0.00238\ttrain-logloss:0.00256\n",
            "[26]\teval-logloss:0.00229\ttrain-logloss:0.00246\n",
            "[27]\teval-logloss:0.00222\ttrain-logloss:0.00238\n",
            "[28]\teval-logloss:0.00210\ttrain-logloss:0.00226\n",
            "[29]\teval-logloss:0.00204\ttrain-logloss:0.00220\n",
            "[30]\teval-logloss:0.00199\ttrain-logloss:0.00215\n",
            "[31]\teval-logloss:0.00195\ttrain-logloss:0.00209\n",
            "[32]\teval-logloss:0.00185\ttrain-logloss:0.00199\n",
            "[33]\teval-logloss:0.00181\ttrain-logloss:0.00194\n",
            "[34]\teval-logloss:0.00177\ttrain-logloss:0.00189\n",
            "[35]\teval-logloss:0.00174\ttrain-logloss:0.00186\n",
            "[36]\teval-logloss:0.00172\ttrain-logloss:0.00183\n",
            "[37]\teval-logloss:0.00168\ttrain-logloss:0.00179\n",
            "[38]\teval-logloss:0.00166\ttrain-logloss:0.00176\n",
            "[39]\teval-logloss:0.00164\ttrain-logloss:0.00173\n",
            "[40]\teval-logloss:0.00162\ttrain-logloss:0.00171\n",
            "[41]\teval-logloss:0.00161\ttrain-logloss:0.00170\n",
            "[42]\teval-logloss:0.00158\ttrain-logloss:0.00166\n",
            "[43]\teval-logloss:0.00156\ttrain-logloss:0.00164\n",
            "[44]\teval-logloss:0.00155\ttrain-logloss:0.00163\n",
            "[45]\teval-logloss:0.00153\ttrain-logloss:0.00160\n",
            "[46]\teval-logloss:0.00151\ttrain-logloss:0.00158\n",
            "[47]\teval-logloss:0.00150\ttrain-logloss:0.00157\n",
            "[48]\teval-logloss:0.00147\ttrain-logloss:0.00154\n",
            "[49]\teval-logloss:0.00147\ttrain-logloss:0.00153\n",
            "[50]\teval-logloss:0.00145\ttrain-logloss:0.00152\n",
            "[51]\teval-logloss:0.00144\ttrain-logloss:0.00150\n",
            "[52]\teval-logloss:0.00143\ttrain-logloss:0.00149\n",
            "[53]\teval-logloss:0.00142\ttrain-logloss:0.00148\n",
            "[54]\teval-logloss:0.00141\ttrain-logloss:0.00147\n",
            "[55]\teval-logloss:0.00140\ttrain-logloss:0.00146\n",
            "[56]\teval-logloss:0.00139\ttrain-logloss:0.00145\n",
            "[57]\teval-logloss:0.00138\ttrain-logloss:0.00144\n",
            "[58]\teval-logloss:0.00138\ttrain-logloss:0.00143\n",
            "[59]\teval-logloss:0.00137\ttrain-logloss:0.00142\n",
            "[60]\teval-logloss:0.00137\ttrain-logloss:0.00142\n",
            "[61]\teval-logloss:0.00136\ttrain-logloss:0.00141\n",
            "[62]\teval-logloss:0.00135\ttrain-logloss:0.00140\n",
            "[63]\teval-logloss:0.00135\ttrain-logloss:0.00140\n",
            "[64]\teval-logloss:0.00134\ttrain-logloss:0.00139\n",
            "[65]\teval-logloss:0.00134\ttrain-logloss:0.00139\n",
            "[66]\teval-logloss:0.00134\ttrain-logloss:0.00138\n",
            "[67]\teval-logloss:0.00133\ttrain-logloss:0.00137\n",
            "[68]\teval-logloss:0.00133\ttrain-logloss:0.00137\n",
            "[69]\teval-logloss:0.00133\ttrain-logloss:0.00136\n",
            "[70]\teval-logloss:0.00132\ttrain-logloss:0.00136\n",
            "[71]\teval-logloss:0.00132\ttrain-logloss:0.00136\n",
            "[72]\teval-logloss:0.00132\ttrain-logloss:0.00135\n",
            "[73]\teval-logloss:0.00131\ttrain-logloss:0.00135\n",
            "[74]\teval-logloss:0.00131\ttrain-logloss:0.00134\n",
            "[75]\teval-logloss:0.00131\ttrain-logloss:0.00134\n",
            "[76]\teval-logloss:0.00131\ttrain-logloss:0.00134\n",
            "[77]\teval-logloss:0.00130\ttrain-logloss:0.00134\n",
            "[78]\teval-logloss:0.00130\ttrain-logloss:0.00133\n",
            "[79]\teval-logloss:0.00130\ttrain-logloss:0.00133\n",
            "[80]\teval-logloss:0.00130\ttrain-logloss:0.00133\n",
            "[81]\teval-logloss:0.00130\ttrain-logloss:0.00133\n",
            "[82]\teval-logloss:0.00129\ttrain-logloss:0.00132\n",
            "[83]\teval-logloss:0.00129\ttrain-logloss:0.00132\n",
            "[84]\teval-logloss:0.00129\ttrain-logloss:0.00132\n",
            "[85]\teval-logloss:0.00129\ttrain-logloss:0.00132\n",
            "[86]\teval-logloss:0.00129\ttrain-logloss:0.00132\n",
            "[87]\teval-logloss:0.00129\ttrain-logloss:0.00131\n",
            "[88]\teval-logloss:0.00129\ttrain-logloss:0.00131\n",
            "[89]\teval-logloss:0.00129\ttrain-logloss:0.00131\n",
            "[90]\teval-logloss:0.00128\ttrain-logloss:0.00131\n",
            "[91]\teval-logloss:0.00128\ttrain-logloss:0.00131\n",
            "[92]\teval-logloss:0.00128\ttrain-logloss:0.00131\n",
            "[93]\teval-logloss:0.00128\ttrain-logloss:0.00131\n",
            "[94]\teval-logloss:0.00128\ttrain-logloss:0.00131\n",
            "[95]\teval-logloss:0.00128\ttrain-logloss:0.00130\n",
            "[96]\teval-logloss:0.00128\ttrain-logloss:0.00130\n",
            "[97]\teval-logloss:0.00128\ttrain-logloss:0.00130\n",
            "[98]\teval-logloss:0.00128\ttrain-logloss:0.00130\n",
            "[99]\teval-logloss:0.00128\ttrain-logloss:0.00130\n"
          ]
        }
      ]
    },
    {
      "cell_type": "code",
      "source": [
        "#ahora veamos las metricas de evaluación\n",
        "\n",
        "def metricas2(objetivo, prediccion):\n",
        "    matriz_conf = confusion_matrix(objetivo, prediccion)\n",
        "    score = accuracy_score(objetivo, prediccion)\n",
        "    reporte = classification_report(objetivo, prediccion)\n",
        "    metricas = [matriz_conf, score, reporte]\n",
        "    return metricas\n",
        "\n",
        "\n",
        "prediccion_02 = modelo_02.predict(agar_test_mat)\n",
        "prediccion_02 = [1 if i > .5 else 0 for i in prediccion_02]\n",
        "metricas_02 = metricas2(agar_test[\"target\"], prediccion_02)\n",
        "[print(i) for i in metricas_02]\n"
      ],
      "metadata": {
        "colab": {
          "base_uri": "https://localhost:8080/"
        },
        "id": "Rc0E1Ben6vYF",
        "outputId": "3c98a0b0-ba83-4ac4-9e91-a75af77288dd"
      },
      "execution_count": 125,
      "outputs": [
        {
          "output_type": "stream",
          "name": "stdout",
          "text": [
            "[[1175    0]\n",
            " [   0 1263]]\n",
            "1.0\n",
            "              precision    recall  f1-score   support\n",
            "\n",
            "           0       1.00      1.00      1.00      1175\n",
            "           1       1.00      1.00      1.00      1263\n",
            "\n",
            "    accuracy                           1.00      2438\n",
            "   macro avg       1.00      1.00      1.00      2438\n",
            "weighted avg       1.00      1.00      1.00      2438\n",
            "\n"
          ]
        },
        {
          "output_type": "execute_result",
          "data": {
            "text/plain": [
              "[None, None, None]"
            ]
          },
          "metadata": {},
          "execution_count": 125
        }
      ]
    },
    {
      "cell_type": "code",
      "source": [
        "#Aquí vemos que la precisión del modelo llega al 100%, tanto para la clase positiva como para la\n",
        "#negativa"
      ],
      "metadata": {
        "id": "uyp8dvNx7Ab3"
      },
      "execution_count": 126,
      "outputs": []
    }
  ]
}